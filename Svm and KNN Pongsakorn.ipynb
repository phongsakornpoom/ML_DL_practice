{
 "cells": [
  {
   "cell_type": "code",
   "execution_count": 1,
   "id": "af536e29",
   "metadata": {},
   "outputs": [],
   "source": [
    "from sklearn.svm import SVC\n",
    "import numpy as np\n",
    "import pandas as pd\n",
    "import matplotlib.pyplot as plt\n",
    "import seaborn as sns\n",
    "from sklearn.model_selection import train_test_split, GridSearchCV, train_test_split\n",
    "from sklearn.pipeline import Pipeline\n",
    "from sklearn.preprocessing import StandardScaler\n",
    "from sklearn.metrics import classification_report,plot_confusion_matrix,accuracy_score,recall_score,precision_score"
   ]
  },
  {
   "cell_type": "markdown",
   "id": "00c85591",
   "metadata": {},
   "source": [
    "### The data given in the assignment "
   ]
  },
  {
   "cell_type": "code",
   "execution_count": 2,
   "id": "c685b56a",
   "metadata": {},
   "outputs": [],
   "source": [
    "X = [[-2,1],[-2,-1],[-1,-1.5],[1,1],[1.5,-0.5],[2,-2]]\n",
    "y = [1,-1,-1,1,1,-1]"
   ]
  },
  {
   "cell_type": "markdown",
   "id": "60b47534",
   "metadata": {},
   "source": [
    "### Checking whether the shape is the same"
   ]
  },
  {
   "cell_type": "code",
   "execution_count": 3,
   "id": "f4499e28",
   "metadata": {},
   "outputs": [
    {
     "data": {
      "text/plain": [
       "True"
      ]
     },
     "execution_count": 3,
     "metadata": {},
     "output_type": "execute_result"
    }
   ],
   "source": [
    "len(X)==len(y)"
   ]
  },
  {
   "cell_type": "code",
   "execution_count": 4,
   "id": "d7e19249",
   "metadata": {},
   "outputs": [],
   "source": [
    "svm_model = SVC(kernel='linear')"
   ]
  },
  {
   "cell_type": "code",
   "execution_count": 5,
   "id": "fea7860c",
   "metadata": {},
   "outputs": [
    {
     "data": {
      "text/plain": [
       "SVC(kernel='linear')"
      ]
     },
     "execution_count": 5,
     "metadata": {},
     "output_type": "execute_result"
    }
   ],
   "source": [
    "svm_model.fit(X,y)"
   ]
  },
  {
   "cell_type": "markdown",
   "id": "9860a0e0",
   "metadata": {},
   "source": [
    "#### If the support vectors are (1.5, -0.5) and (2,-2)\n",
    "\n",
    "<b>Ans:</b>\n",
    "\n",
    "(1.5,-0.5) is predicted to be class 1\n",
    "\n",
    "(2,-2) is predicted to be class -1\n"
   ]
  },
  {
   "cell_type": "code",
   "execution_count": 6,
   "id": "73846582",
   "metadata": {},
   "outputs": [
    {
     "data": {
      "text/plain": [
       "array([1])"
      ]
     },
     "execution_count": 6,
     "metadata": {},
     "output_type": "execute_result"
    }
   ],
   "source": [
    "svm_model.predict([[1.5,-0.5]])"
   ]
  },
  {
   "cell_type": "code",
   "execution_count": 7,
   "id": "9a17c56a",
   "metadata": {},
   "outputs": [
    {
     "data": {
      "text/plain": [
       "array([-1])"
      ]
     },
     "execution_count": 7,
     "metadata": {},
     "output_type": "execute_result"
    }
   ],
   "source": [
    "svm_model.predict([[2,-2]])"
   ]
  },
  {
   "cell_type": "markdown",
   "id": "a84efd6c",
   "metadata": {},
   "source": [
    "## Manual calculation\n",
    "lets add bias to 1\n",
    "\n",
    "support vector 1 = [1.5,-0.5,1] [2,-2,1] = 1\n",
    "support vector 2 = [2,-2,1] = -1"
   ]
  },
  {
   "cell_type": "markdown",
   "id": "12c8d858",
   "metadata": {},
   "source": [
    "<img src=\"manualweight.jpg\">"
   ]
  },
  {
   "cell_type": "markdown",
   "id": "d3f341f6",
   "metadata": {},
   "source": [
    "# Our weights are -0.338 and 0.859\n",
    "# Our Bias is -0.052"
   ]
  },
  {
   "cell_type": "markdown",
   "id": "eaa3dd73",
   "metadata": {},
   "source": [
    "<img src=\"image.png\">"
   ]
  },
  {
   "cell_type": "markdown",
   "id": "4fedb505",
   "metadata": {},
   "source": [
    "# Create a SVM-model and plot a 2D-SVM classification by using Python and colon data set\n",
    "(use only two genes, T62947 and H64807), and find your best hyperparameter for precision,\n",
    "recall, and accuracy. (Training:Testing = 80:20)\n",
    "\n",
    "## Creating a function to visulize 2D SVM "
   ]
  },
  {
   "cell_type": "code",
   "execution_count": 8,
   "id": "bd522ac1",
   "metadata": {},
   "outputs": [],
   "source": [
    "# This function is from https://scikit-learn.org/stable/auto_examples/svm/plot_separating_hyperplane.html\n",
    "\n",
    "\n",
    "def plot_svm_boundary(model,X,y):\n",
    "    \n",
    "    # for convenience, I have custom edit it by adding these 2 line so the function can run automatically as it fit by itself\n",
    "    X_train, X_test, y_train, y_test = train_test_split(X, y, test_size=0.2, random_state=42)\n",
    "    model.fit(X_train,y_train)\n",
    "    \n",
    "    X = X.values\n",
    "    y = y.values\n",
    "    \n",
    "    # Scatter Plot\n",
    "    plt.scatter(X[:, 0], X[:, 1], c=y, s=30,cmap='seismic')\n",
    "\n",
    "    \n",
    "    # plot the decision function\n",
    "    ax = plt.gca()\n",
    "    xlim = ax.get_xlim()\n",
    "    ylim = ax.get_ylim()\n",
    "\n",
    "    # create grid to evaluate model\n",
    "    xx = np.linspace(xlim[0], xlim[1], 30)\n",
    "    yy = np.linspace(ylim[0], ylim[1], 30)\n",
    "    YY, XX = np.meshgrid(yy, xx)\n",
    "    xy = np.vstack([XX.ravel(), YY.ravel()]).T\n",
    "    Z = model.decision_function(xy).reshape(XX.shape)\n",
    "\n",
    "    # plot decision boundary and margins\n",
    "    ax.contour(XX, YY, Z, colors='k', levels=[-1, 0, 1], alpha=0.5,\n",
    "               linestyles=['--', '-', '--'])\n",
    "    # plot support vectors\n",
    "    ax.scatter(model.support_vectors_[:, 0], model.support_vectors_[:, 1], s=100,\n",
    "               linewidth=1, facecolors='none', edgecolors='k')\n",
    "    plt.show()"
   ]
  },
  {
   "cell_type": "code",
   "execution_count": 9,
   "id": "b64fded0",
   "metadata": {},
   "outputs": [],
   "source": [
    "colondf = pd.read_csv('colon.csv')"
   ]
  },
  {
   "cell_type": "markdown",
   "id": "e9bae747",
   "metadata": {},
   "source": [
    "## Data exploration"
   ]
  },
  {
   "cell_type": "code",
   "execution_count": 10,
   "id": "6d90bbdc",
   "metadata": {},
   "outputs": [
    {
     "data": {
      "text/html": [
       "<div>\n",
       "<style scoped>\n",
       "    .dataframe tbody tr th:only-of-type {\n",
       "        vertical-align: middle;\n",
       "    }\n",
       "\n",
       "    .dataframe tbody tr th {\n",
       "        vertical-align: top;\n",
       "    }\n",
       "\n",
       "    .dataframe thead th {\n",
       "        text-align: right;\n",
       "    }\n",
       "</style>\n",
       "<table border=\"1\" class=\"dataframe\">\n",
       "  <thead>\n",
       "    <tr style=\"text-align: right;\">\n",
       "      <th></th>\n",
       "      <th>H55933</th>\n",
       "      <th>R39465</th>\n",
       "      <th>R39465.1</th>\n",
       "      <th>R85482</th>\n",
       "      <th>U14973</th>\n",
       "      <th>R02593</th>\n",
       "      <th>T51496</th>\n",
       "      <th>H80240</th>\n",
       "      <th>T65938</th>\n",
       "      <th>T55131</th>\n",
       "      <th>...</th>\n",
       "      <th>R70790</th>\n",
       "      <th>L11706</th>\n",
       "      <th>T90549</th>\n",
       "      <th>D17390</th>\n",
       "      <th>M33210</th>\n",
       "      <th>H18490</th>\n",
       "      <th>H40891</th>\n",
       "      <th>R77780</th>\n",
       "      <th>T49647</th>\n",
       "      <th>Class</th>\n",
       "    </tr>\n",
       "  </thead>\n",
       "  <tbody>\n",
       "    <tr>\n",
       "      <th>0</th>\n",
       "      <td>3.62</td>\n",
       "      <td>3.31</td>\n",
       "      <td>2.986154</td>\n",
       "      <td>2.71</td>\n",
       "      <td>2.091310</td>\n",
       "      <td>3.12</td>\n",
       "      <td>2.745517</td>\n",
       "      <td>2.42</td>\n",
       "      <td>3.352726</td>\n",
       "      <td>2.97</td>\n",
       "      <td>...</td>\n",
       "      <td>-1.030</td>\n",
       "      <td>-0.983356</td>\n",
       "      <td>-0.531</td>\n",
       "      <td>-1.142698</td>\n",
       "      <td>-1.110</td>\n",
       "      <td>-0.520386</td>\n",
       "      <td>-0.315</td>\n",
       "      <td>-1.764190</td>\n",
       "      <td>-2.75</td>\n",
       "      <td>1</td>\n",
       "    </tr>\n",
       "    <tr>\n",
       "      <th>1</th>\n",
       "      <td>3.47</td>\n",
       "      <td>3.68</td>\n",
       "      <td>3.425553</td>\n",
       "      <td>3.05</td>\n",
       "      <td>2.402400</td>\n",
       "      <td>2.46</td>\n",
       "      <td>2.150405</td>\n",
       "      <td>2.26</td>\n",
       "      <td>3.020793</td>\n",
       "      <td>3.26</td>\n",
       "      <td>...</td>\n",
       "      <td>-1.230</td>\n",
       "      <td>-3.063926</td>\n",
       "      <td>0.156</td>\n",
       "      <td>-0.687025</td>\n",
       "      <td>-0.777</td>\n",
       "      <td>-1.093455</td>\n",
       "      <td>-1.210</td>\n",
       "      <td>-1.062064</td>\n",
       "      <td>-2.13</td>\n",
       "      <td>1</td>\n",
       "    </tr>\n",
       "    <tr>\n",
       "      <th>2</th>\n",
       "      <td>3.02</td>\n",
       "      <td>2.78</td>\n",
       "      <td>2.569772</td>\n",
       "      <td>3.21</td>\n",
       "      <td>2.707560</td>\n",
       "      <td>2.63</td>\n",
       "      <td>2.385288</td>\n",
       "      <td>3.00</td>\n",
       "      <td>2.633958</td>\n",
       "      <td>2.40</td>\n",
       "      <td>...</td>\n",
       "      <td>-0.758</td>\n",
       "      <td>0.318488</td>\n",
       "      <td>-1.250</td>\n",
       "      <td>-1.099859</td>\n",
       "      <td>-0.131</td>\n",
       "      <td>-2.748068</td>\n",
       "      <td>-1.010</td>\n",
       "      <td>-2.260031</td>\n",
       "      <td>-1.50</td>\n",
       "      <td>1</td>\n",
       "    </tr>\n",
       "    <tr>\n",
       "      <th>3</th>\n",
       "      <td>3.10</td>\n",
       "      <td>2.86</td>\n",
       "      <td>2.772942</td>\n",
       "      <td>3.19</td>\n",
       "      <td>2.354082</td>\n",
       "      <td>2.76</td>\n",
       "      <td>2.103475</td>\n",
       "      <td>2.93</td>\n",
       "      <td>3.176524</td>\n",
       "      <td>2.84</td>\n",
       "      <td>...</td>\n",
       "      <td>-1.180</td>\n",
       "      <td>0.079492</td>\n",
       "      <td>-1.070</td>\n",
       "      <td>-0.465491</td>\n",
       "      <td>-0.455</td>\n",
       "      <td>-1.804783</td>\n",
       "      <td>-1.610</td>\n",
       "      <td>-1.223450</td>\n",
       "      <td>-1.07</td>\n",
       "      <td>1</td>\n",
       "    </tr>\n",
       "    <tr>\n",
       "      <th>4</th>\n",
       "      <td>3.01</td>\n",
       "      <td>2.91</td>\n",
       "      <td>2.560548</td>\n",
       "      <td>3.25</td>\n",
       "      <td>2.336800</td>\n",
       "      <td>3.04</td>\n",
       "      <td>2.881109</td>\n",
       "      <td>2.55</td>\n",
       "      <td>2.852425</td>\n",
       "      <td>2.57</td>\n",
       "      <td>...</td>\n",
       "      <td>-0.491</td>\n",
       "      <td>-0.081214</td>\n",
       "      <td>-1.160</td>\n",
       "      <td>-0.889998</td>\n",
       "      <td>-0.528</td>\n",
       "      <td>-1.636024</td>\n",
       "      <td>-1.210</td>\n",
       "      <td>-1.232686</td>\n",
       "      <td>-1.62</td>\n",
       "      <td>1</td>\n",
       "    </tr>\n",
       "  </tbody>\n",
       "</table>\n",
       "<p>5 rows × 2001 columns</p>\n",
       "</div>"
      ],
      "text/plain": [
       "   H55933  R39465  R39465.1  R85482    U14973  R02593    T51496  H80240  \\\n",
       "0    3.62    3.31  2.986154    2.71  2.091310    3.12  2.745517    2.42   \n",
       "1    3.47    3.68  3.425553    3.05  2.402400    2.46  2.150405    2.26   \n",
       "2    3.02    2.78  2.569772    3.21  2.707560    2.63  2.385288    3.00   \n",
       "3    3.10    2.86  2.772942    3.19  2.354082    2.76  2.103475    2.93   \n",
       "4    3.01    2.91  2.560548    3.25  2.336800    3.04  2.881109    2.55   \n",
       "\n",
       "     T65938  T55131  ...  R70790    L11706  T90549    D17390  M33210  \\\n",
       "0  3.352726    2.97  ...  -1.030 -0.983356  -0.531 -1.142698  -1.110   \n",
       "1  3.020793    3.26  ...  -1.230 -3.063926   0.156 -0.687025  -0.777   \n",
       "2  2.633958    2.40  ...  -0.758  0.318488  -1.250 -1.099859  -0.131   \n",
       "3  3.176524    2.84  ...  -1.180  0.079492  -1.070 -0.465491  -0.455   \n",
       "4  2.852425    2.57  ...  -0.491 -0.081214  -1.160 -0.889998  -0.528   \n",
       "\n",
       "     H18490  H40891    R77780  T49647  Class  \n",
       "0 -0.520386  -0.315 -1.764190   -2.75      1  \n",
       "1 -1.093455  -1.210 -1.062064   -2.13      1  \n",
       "2 -2.748068  -1.010 -2.260031   -1.50      1  \n",
       "3 -1.804783  -1.610 -1.223450   -1.07      1  \n",
       "4 -1.636024  -1.210 -1.232686   -1.62      1  \n",
       "\n",
       "[5 rows x 2001 columns]"
      ]
     },
     "execution_count": 10,
     "metadata": {},
     "output_type": "execute_result"
    }
   ],
   "source": [
    "colondf.head()"
   ]
  },
  {
   "cell_type": "markdown",
   "id": "f564f91c",
   "metadata": {},
   "source": [
    "checking for missing data: \n",
    "<b>No missing data</b>"
   ]
  },
  {
   "cell_type": "code",
   "execution_count": 11,
   "id": "68ca9f9a",
   "metadata": {},
   "outputs": [
    {
     "data": {
      "text/plain": [
       "0"
      ]
     },
     "execution_count": 11,
     "metadata": {},
     "output_type": "execute_result"
    }
   ],
   "source": [
    "colondf.isna().sum().sum()"
   ]
  },
  {
   "cell_type": "code",
   "execution_count": 12,
   "id": "352a9528",
   "metadata": {},
   "outputs": [],
   "source": [
    "X = colondf[['T62947','H64807']]\n",
    "y = colondf['Class']\n",
    "X_train, X_test, y_train, y_test = train_test_split(X, y, test_size=0.2, random_state=42)"
   ]
  },
  {
   "cell_type": "code",
   "execution_count": 13,
   "id": "ba899e3c",
   "metadata": {},
   "outputs": [
    {
     "data": {
      "image/png": "[encoded data removed]",
      "text/plain": [
       "<Figure size 432x288 with 1 Axes>"
      ]
     },
     "metadata": {
      "needs_background": "light"
     },
     "output_type": "display_data"
    }
   ],
   "source": [
    "plot_svm_boundary(SVC(), X,y)"
   ]
  },
  {
   "cell_type": "markdown",
   "id": "2c9b262a",
   "metadata": {},
   "source": [
    "# lets use gridsearchcv to find the best hyperparameter for precision, recall and accuarcy"
   ]
  },
  {
   "cell_type": "code",
   "execution_count": 14,
   "id": "65f930dd",
   "metadata": {},
   "outputs": [
    {
     "data": {
      "text/plain": [
       "GridSearchCV(estimator=SVC(),\n",
       "             param_grid={'C': [0.001, 0.01, 0.1, 10, 25, 30, 50, 100, 1000],\n",
       "                         'gamma': [0.001, 0.1, 1, 10],\n",
       "                         'kernel': ['linear', 'poly', 'rbf', 'sigmoid']})"
      ]
     },
     "execution_count": 14,
     "metadata": {},
     "output_type": "execute_result"
    }
   ],
   "source": [
    "param_grid = {'C':[0.001,0.01,0.1,10,25,30,50,100,1000],'kernel':['linear', 'poly', 'rbf', 'sigmoid'],'gamma' : ['scale', 'auto'],'gamma':[0.001,0.1,1,10]}\n",
    "gridmodel = GridSearchCV(SVC(),param_grid=param_grid)\n",
    "gridmodel.fit(X_train, y_train)"
   ]
  },
  {
   "cell_type": "markdown",
   "id": "18b2d181",
   "metadata": {},
   "source": [
    "### The hyperparameter that are chosen by the gridsearch are the following below"
   ]
  },
  {
   "cell_type": "code",
   "execution_count": 15,
   "id": "2a719ab2",
   "metadata": {},
   "outputs": [
    {
     "data": {
      "text/plain": [
       "{'C': 25, 'gamma': 0.1, 'kernel': 'rbf'}"
      ]
     },
     "execution_count": 15,
     "metadata": {},
     "output_type": "execute_result"
    }
   ],
   "source": [
    "gridmodel.best_params_"
   ]
  },
  {
   "cell_type": "markdown",
   "id": "8babaed7",
   "metadata": {},
   "source": [
    "# Use the model to predict X test to get y_pred"
   ]
  },
  {
   "cell_type": "code",
   "execution_count": 16,
   "id": "7d1a8f6d",
   "metadata": {},
   "outputs": [],
   "source": [
    "y_pred = gridmodel.predict(X_test)"
   ]
  },
  {
   "cell_type": "markdown",
   "id": "0ce038aa",
   "metadata": {},
   "source": [
    "## Evaluation"
   ]
  },
  {
   "cell_type": "code",
   "execution_count": 17,
   "id": "fd9a52eb",
   "metadata": {},
   "outputs": [
    {
     "name": "stdout",
     "output_type": "stream",
     "text": [
      "              precision    recall  f1-score   support\n",
      "\n",
      "          -1       0.83      0.62      0.71         8\n",
      "           1       0.57      0.80      0.67         5\n",
      "\n",
      "    accuracy                           0.69        13\n",
      "   macro avg       0.70      0.71      0.69        13\n",
      "weighted avg       0.73      0.69      0.70        13\n",
      "\n"
     ]
    }
   ],
   "source": [
    "print(classification_report(y_test,y_pred))"
   ]
  },
  {
   "cell_type": "markdown",
   "id": "58d49315",
   "metadata": {},
   "source": [
    "<b>Explanation</b>: The best precision is 0.57 and recall is 0.8 with f1 score 0.67. The model able to predict 5 out of 8 correctly for class -1 and predict 4 out of 5 correctly for class 1 in the confusion matrix below"
   ]
  },
  {
   "cell_type": "code",
   "execution_count": 18,
   "id": "ad514d30",
   "metadata": {},
   "outputs": [
    {
     "data": {
      "text/plain": [
       "<sklearn.metrics._plot.confusion_matrix.ConfusionMatrixDisplay at 0x1ac860927f0>"
      ]
     },
     "execution_count": 18,
     "metadata": {},
     "output_type": "execute_result"
    },
    {
     "data": {
      "image/png": "[encoded data removed]",
      "text/plain": [
       "<Figure size 432x288 with 2 Axes>"
      ]
     },
     "metadata": {
      "needs_background": "light"
     },
     "output_type": "display_data"
    }
   ],
   "source": [
    "plot_confusion_matrix(gridmodel,X_test,y_test)"
   ]
  },
  {
   "cell_type": "markdown",
   "id": "1373e305",
   "metadata": {},
   "source": [
    "# All features"
   ]
  },
  {
   "cell_type": "code",
   "execution_count": 19,
   "id": "034de8d4",
   "metadata": {},
   "outputs": [
    {
     "data": {
      "text/plain": [
       "GridSearchCV(estimator=SVC(),\n",
       "             param_grid={'C': [0.001, 0.01, 0.1, 10, 25, 30, 50, 100, 1000],\n",
       "                         'gamma': [0.001, 0.1, 1, 10],\n",
       "                         'kernel': ['linear', 'poly', 'rbf', 'sigmoid']})"
      ]
     },
     "execution_count": 19,
     "metadata": {},
     "output_type": "execute_result"
    }
   ],
   "source": [
    "param_grid = {'C':[0.001,0.01,0.1,10,25,30,50,100,1000],'kernel':['linear', 'poly', 'rbf', 'sigmoid'],'gamma' : ['scale', 'auto'],'gamma':[0.001,0.1,1,10]}\n",
    "df = pd.read_csv('colon.csv')\n",
    "X = df.drop('Class',axis = 1)\n",
    "y = df['Class']\n",
    "X_train, X_test, y_train, y_test = train_test_split(X, y, test_size=0.2, random_state=42)\n",
    "gridsvm = GridSearchCV(SVC(),param_grid=param_grid)\n",
    "gridsvm.fit(X_train, y_train)"
   ]
  },
  {
   "cell_type": "markdown",
   "id": "f8dbf79b",
   "metadata": {},
   "source": [
    "### The hyperparameter that are chosen by the gridsearch are the following below"
   ]
  },
  {
   "cell_type": "code",
   "execution_count": 20,
   "id": "c1652970",
   "metadata": {},
   "outputs": [
    {
     "data": {
      "text/plain": [
       "{'C': 0.001, 'gamma': 0.001, 'kernel': 'linear'}"
      ]
     },
     "execution_count": 20,
     "metadata": {},
     "output_type": "execute_result"
    }
   ],
   "source": [
    "gridsvm.best_params_"
   ]
  },
  {
   "cell_type": "markdown",
   "id": "3c7f40c6",
   "metadata": {},
   "source": [
    "# Evaluation"
   ]
  },
  {
   "cell_type": "code",
   "execution_count": 21,
   "id": "8c91144e",
   "metadata": {},
   "outputs": [
    {
     "name": "stdout",
     "output_type": "stream",
     "text": [
      "              precision    recall  f1-score   support\n",
      "\n",
      "          -1       1.00      0.88      0.93         8\n",
      "           1       0.83      1.00      0.91         5\n",
      "\n",
      "    accuracy                           0.92        13\n",
      "   macro avg       0.92      0.94      0.92        13\n",
      "weighted avg       0.94      0.92      0.92        13\n",
      "\n"
     ]
    }
   ],
   "source": [
    "y_pred = gridsvm.predict(X_test)\n",
    "print(classification_report(y_test,y_pred))"
   ]
  },
  {
   "cell_type": "markdown",
   "id": "79ad4def",
   "metadata": {},
   "source": [
    "<b>Explanation:</b> This model has performed a lot better than the previous model with only 2 features since this model used all features it perform with perfect recall of 1 and precision of 0.83 making the average harmony score f1 closer to 1(0.91 in this model). The model got an accuarcy of 0.92, it able to predict 7 out of 8 of true positive cases correctly and fully able to predict 5 out of 5 case of true positive correctly."
   ]
  },
  {
   "cell_type": "code",
   "execution_count": 22,
   "id": "51fdb154",
   "metadata": {},
   "outputs": [
    {
     "data": {
      "text/plain": [
       "<sklearn.metrics._plot.confusion_matrix.ConfusionMatrixDisplay at 0x1ac86290940>"
      ]
     },
     "execution_count": 22,
     "metadata": {},
     "output_type": "execute_result"
    },
    {
     "data": {
      "image/png": "[encoded data removed]",
      "text/plain": [
       "<Figure size 432x288 with 2 Axes>"
      ]
     },
     "metadata": {
      "needs_background": "light"
     },
     "output_type": "display_data"
    }
   ],
   "source": [
    "plot_confusion_matrix(gridsvm, X_test,y_test)"
   ]
  },
  {
   "cell_type": "markdown",
   "id": "60fa889b",
   "metadata": {},
   "source": [
    "# KNN"
   ]
  },
  {
   "cell_type": "code",
   "execution_count": 23,
   "id": "d2191ef2",
   "metadata": {},
   "outputs": [],
   "source": [
    "from sklearn.neighbors import KNeighborsClassifier\n",
    "from sklearn.preprocessing import StandardScaler\n",
    "from sklearn.model_selection import train_test_split\n",
    "from sklearn.metrics import accuracy_score,plot_confusion_matrix,recall_score,precision_score\n",
    "scaler = StandardScaler()"
   ]
  },
  {
   "cell_type": "code",
   "execution_count": 24,
   "id": "814b09d7",
   "metadata": {},
   "outputs": [],
   "source": [
    "df = pd.read_csv('colon.csv')\n",
    "X = df.drop('Class', axis =1)\n",
    "y = df['Class']\n",
    "X_train, X_test, y_train, y_test = train_test_split(X, y, test_size=0.2, random_state=42)"
   ]
  },
  {
   "cell_type": "markdown",
   "id": "667ff12f",
   "metadata": {},
   "source": [
    "### It a good practice to do feature scaling or standarization for knn to bring all of it to a common scale"
   ]
  },
  {
   "cell_type": "code",
   "execution_count": 25,
   "id": "44694cd2",
   "metadata": {},
   "outputs": [],
   "source": [
    "X_train = scaler.fit_transform(X_train)\n",
    "X_test = scaler.transform(X_test)"
   ]
  },
  {
   "cell_type": "markdown",
   "id": "0740b517",
   "metadata": {},
   "source": [
    "## Lets create a function from scratch that use Elbow Method for seeing how each K neighbor does and return a elbow method graph and best output with confusion matrix\n",
    "\n",
    "for function explanation please read the comment for step by step explanation"
   ]
  },
  {
   "cell_type": "code",
   "execution_count": 26,
   "id": "3ba8a509",
   "metadata": {},
   "outputs": [],
   "source": [
    "def elbowevaluation(k,weight):\n",
    "    error_rate = [] # blank list for appending error rate\n",
    "    for i in k: # loop to run \n",
    "        knn = KNeighborsClassifier(n_neighbors=i,weights = weight) # create model knn and assign it hyperparameter such as weight & neighbor\n",
    "        knn.fit(X_train,y_train)# fit into model\n",
    "        y_pred = knn.predict(X_test) # use model to predict y_pred from x_test\n",
    "        error_rate.append(1-accuracy_score(y_test,y_pred)) # append error rate formula 1- accuracy\n",
    "    plt.plot(k,error_rate)# plot the elbow graph\n",
    "    plt.title('Elbow graph') # title \n",
    "    plt.xlabel('number of neighbor')# x label\n",
    "    plt.ylabel('error rate') # y label\n",
    "    plt.show()\n",
    "    best_k = k[np.argmin(error_rate)] # argmin give out the index of the min item\n",
    "    print(f'Best K values for weight = {weight} is K = {best_k}') \n",
    "    print(f'The following confusion matrix below is contructed by the k = {best_k}')\n",
    "    bestknn = KNeighborsClassifier(n_neighbors=best_k,weights = weight).fit(X_train,y_train) # create instance set as best hyperparameter and fit it\n",
    "    y_pred = bestknn.predict(X_test)\n",
    "    print(f'Recall: {recall_score(y_test,y_pred)}','\\nPrecision:',precision_score(y_test,y_pred))\n",
    "    plot_confusion_matrix(bestknn,X_test, y_test) # plot the confusion matrix with the best hyperparameter"
   ]
  },
  {
   "cell_type": "markdown",
   "id": "620fc6f1",
   "metadata": {},
   "source": [
    "# Question B1 with weight as Distance"
   ]
  },
  {
   "cell_type": "code",
   "execution_count": 27,
   "id": "9b95a56e",
   "metadata": {},
   "outputs": [
    {
     "data": {
      "image/png": "[encoded data removed]",
      "text/plain": [
       "<Figure size 432x288 with 1 Axes>"
      ]
     },
     "metadata": {
      "needs_background": "light"
     },
     "output_type": "display_data"
    },
    {
     "name": "stdout",
     "output_type": "stream",
     "text": [
      "Best K values for weight = distance is K = 4\n",
      "The following confusion matrix below is contructed by the k = 4\n",
      "Recall: 1.0 \n",
      "Precision: 0.8333333333333334\n"
     ]
    },
    {
     "data": {
      "image/png": "[encoded data removed]",
      "text/plain": [
       "<Figure size 432x288 with 2 Axes>"
      ]
     },
     "metadata": {
      "needs_background": "light"
     },
     "output_type": "display_data"
    }
   ],
   "source": [
    "k = [ 1, 2, 4, 6, 8, 10, 12 ]\n",
    "elbowevaluation(k, 'distance')"
   ]
  },
  {
   "cell_type": "markdown",
   "id": "69bde2ca",
   "metadata": {},
   "source": [
    "# # Question B2 with weight as "
   ]
  },
  {
   "cell_type": "code",
   "execution_count": 28,
   "id": "bb527bb6",
   "metadata": {},
   "outputs": [
    {
     "data": {
      "image/png": "[encoded data removed]",
      "text/plain": [
       "<Figure size 432x288 with 1 Axes>"
      ]
     },
     "metadata": {
      "needs_background": "light"
     },
     "output_type": "display_data"
    },
    {
     "name": "stdout",
     "output_type": "stream",
     "text": [
      "Best K values for weight = uniform is K = 2\n",
      "The following confusion matrix below is contructed by the k = 2\n",
      "Recall: 0.4 \n",
      "Precision: 1.0\n"
     ]
    },
    {
     "data": {
      "image/png": "[encoded data removed]",
      "text/plain": [
       "<Figure size 432x288 with 2 Axes>"
      ]
     },
     "metadata": {
      "needs_background": "light"
     },
     "output_type": "display_data"
    }
   ],
   "source": [
    "elbowevaluation(k, 'uniform')"
   ]
  },
  {
   "cell_type": "markdown",
   "id": "a9109990",
   "metadata": {},
   "source": [
    "# Explanation for comparison between weights = uniform and weights  = distance\n",
    "\n",
    "## The best weights for cancer classification with collon.csv will be weight = distance\n",
    "\n",
    "<b>Explanation: </b><p>The model that `weight = distance`, best hypermeter is `k = 4` gave out a recall of `1.0` or perfect recall as task such as patient screening is focus on recall than precision since predicting a sick people as healthy people mean the sick people or maybe with danger disease such as covid passed our screening this may lead to more infection within the country or area as we let the disease people pass. As high recall mean low false negative, false negative in this case mean model predicting cancer as healthy but high precision mean low false positive, false positive in this case means predicting healthy as cancer. in this case, the patient will be panic but further investment will be taken with patient wasted their time but in the end healthy so in cancer screening we focus on recall this is why I have choosen `weight= distance`</p>  "
   ]
  }
 ],
 "metadata": {
  "kernelspec": {
   "display_name": "Python 3 (ipykernel)",
   "language": "python",
   "name": "python3"
  },
  "language_info": {
   "codemirror_mode": {
    "name": "ipython",
    "version": 3
   },
   "file_extension": ".py",
   "mimetype": "text/x-python",
   "name": "python",
   "nbconvert_exporter": "python",
   "pygments_lexer": "ipython3",
   "version": "3.8.12"
  }
 },
 "nbformat": 4,
 "nbformat_minor": 5
}
