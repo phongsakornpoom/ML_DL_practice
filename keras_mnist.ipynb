{
 "cells": [
  {
   "cell_type": "code",
   "execution_count": 8,
   "metadata": {},
   "outputs": [],
   "source": [
    "import keras\n",
    "from keras.models import Sequential\n",
    "from keras.layers import Dense\n",
    "from keras.datasets import mnist\n",
    "from keras.optimizers import SGD\n",
    "import matplotlib.pyplot as plt\n",
    "import numpy as np\n",
    "from sklearn.model_selection import train_test_split\n",
    "np.random.seed(1337) \n",
    "import cv2 as cv"
   ]
  },
  {
   "cell_type": "code",
   "execution_count": 9,
   "metadata": {},
   "outputs": [],
   "source": [
    "(X_train,y_train),(X_test,y_test)= mnist.load_data()"
   ]
  },
  {
   "cell_type": "code",
   "execution_count": 10,
   "metadata": {},
   "outputs": [
    {
     "data": {
      "text/plain": [
       "<matplotlib.image.AxesImage at 0x1cfcba8b1c8>"
      ]
     },
     "execution_count": 10,
     "metadata": {},
     "output_type": "execute_result"
    },
    {
     "data": {
      "image/png": "[encoded data removed]",
      "text/plain": [
       "<Figure size 432x288 with 1 Axes>"
      ]
     },
     "metadata": {
      "needs_background": "light"
     },
     "output_type": "display_data"
    }
   ],
   "source": [
    "plt.imshow(X_train[0],cmap='gray')"
   ]
  },
  {
   "cell_type": "code",
   "execution_count": 11,
   "metadata": {},
   "outputs": [
    {
     "data": {
      "text/plain": [
       "(60000, 28, 28)"
      ]
     },
     "execution_count": 11,
     "metadata": {},
     "output_type": "execute_result"
    }
   ],
   "source": [
    "X_train.shape"
   ]
  },
  {
   "cell_type": "code",
   "execution_count": 12,
   "metadata": {},
   "outputs": [
    {
     "data": {
      "text/plain": [
       "(10000, 28, 28)"
      ]
     },
     "execution_count": 12,
     "metadata": {},
     "output_type": "execute_result"
    }
   ],
   "source": [
    "X_test.shape"
   ]
  },
  {
   "cell_type": "code",
   "execution_count": 13,
   "metadata": {},
   "outputs": [
    {
     "name": "stdout",
     "output_type": "stream",
     "text": [
      "Xtrainshape60000\n",
      "Xtestshape10000\n"
     ]
    }
   ],
   "source": [
    "X_train=X_train.reshape(60000,28*28)\n",
    "X_test = X_test.reshape(-1,784)\n",
    "X_train = X_train.astype('float32')\n",
    "X_test = X_test.astype('float32')\n",
    "X_train/=255\n",
    "X_test/=255\n",
    "print(\"Xtrainshape{}\\nXtestshape{}\".format(X_train.shape[0],X_test.shape[0]))"
   ]
  },
  {
   "cell_type": "code",
   "execution_count": 14,
   "metadata": {},
   "outputs": [],
   "source": [
    "y_train = keras.utils.to_categorical(y_train, 10)\n",
    "y_test = keras.utils.to_categorical(y_test, 10)"
   ]
  },
  {
   "cell_type": "code",
   "execution_count": 15,
   "metadata": {},
   "outputs": [
    {
     "name": "stdout",
     "output_type": "stream",
     "text": [
      "Model: \"sequential_1\"\n",
      "_________________________________________________________________\n",
      "Layer (type)                 Output Shape              Param #   \n",
      "=================================================================\n",
      "dense_1 (Dense)              (None, 512)               401920    \n",
      "_________________________________________________________________\n",
      "dense_2 (Dense)              (None, 512)               262656    \n",
      "_________________________________________________________________\n",
      "dense_3 (Dense)              (None, 512)               262656    \n",
      "_________________________________________________________________\n",
      "dense_4 (Dense)              (None, 10)                5130      \n",
      "=================================================================\n",
      "Total params: 932,362\n",
      "Trainable params: 932,362\n",
      "Non-trainable params: 0\n",
      "_________________________________________________________________\n"
     ]
    }
   ],
   "source": [
    "model = Sequential()\n",
    "model.add(Dense(512, input_shape=(784,), activation='sigmoid'))\n",
    "model.add(Dense(512,activation='sigmoid'))\n",
    "model.add(Dense(512,activation='sigmoid'))\n",
    "model.add(Dense(10,activation='softmax'))\n",
    "model.summary()"
   ]
  },
  {
   "cell_type": "code",
   "execution_count": 16,
   "metadata": {},
   "outputs": [],
   "source": [
    "model.compile(loss='categorical_crossentropy',optimizer=SGD(),metrics=['accuracy'])"
   ]
  },
  {
   "cell_type": "code",
   "execution_count": 17,
   "metadata": {
    "scrolled": false
   },
   "outputs": [
    {
     "name": "stdout",
     "output_type": "stream",
     "text": [
      "Train on 60000 samples, validate on 10000 samples\n",
      "Epoch 1/40\n",
      "60000/60000 [==============================] - 4s 67us/step - loss: 2.3013 - accuracy: 0.1107 - val_loss: 2.2970 - val_accuracy: 0.1135\n",
      "Epoch 2/40\n",
      "60000/60000 [==============================] - 4s 64us/step - loss: 2.2958 - accuracy: 0.1234 - val_loss: 2.2904 - val_accuracy: 0.1333\n",
      "Epoch 3/40\n",
      "60000/60000 [==============================] - 4s 71us/step - loss: 2.2898 - accuracy: 0.1374 - val_loss: 2.2860 - val_accuracy: 0.1296\n",
      "Epoch 4/40\n",
      "60000/60000 [==============================] - 4s 68us/step - loss: 2.2827 - accuracy: 0.1586 - val_loss: 2.2799 - val_accuracy: 0.2245\n",
      "Epoch 5/40\n",
      "60000/60000 [==============================] - 4s 72us/step - loss: 2.2749 - accuracy: 0.1772 - val_loss: 2.2701 - val_accuracy: 0.1158\n",
      "Epoch 6/40\n",
      "60000/60000 [==============================] - 4s 73us/step - loss: 2.2652 - accuracy: 0.1985 - val_loss: 2.2581 - val_accuracy: 0.2524\n",
      "Epoch 7/40\n",
      "60000/60000 [==============================] - 6s 95us/step - loss: 2.2534 - accuracy: 0.2438 - val_loss: 2.2438 - val_accuracy: 0.2415\n",
      "Epoch 8/40\n",
      "60000/60000 [==============================] - 5s 76us/step - loss: 2.2371 - accuracy: 0.2826 - val_loss: 2.2236 - val_accuracy: 0.4140\n",
      "Epoch 9/40\n",
      "60000/60000 [==============================] - 5s 85us/step - loss: 2.2146 - accuracy: 0.3266 - val_loss: 2.1967 - val_accuracy: 0.3782\n",
      "Epoch 10/40\n",
      "60000/60000 [==============================] - 4s 75us/step - loss: 2.1826 - accuracy: 0.3665 - val_loss: 2.1596 - val_accuracy: 0.3099\n",
      "Epoch 11/40\n",
      "60000/60000 [==============================] - 4s 72us/step - loss: 2.1351 - accuracy: 0.4092 - val_loss: 2.0979 - val_accuracy: 0.4733\n",
      "Epoch 12/40\n",
      "60000/60000 [==============================] - 4s 75us/step - loss: 2.0609 - accuracy: 0.4418 - val_loss: 2.0084 - val_accuracy: 0.4388\n",
      "Epoch 13/40\n",
      "60000/60000 [==============================] - 5s 88us/step - loss: 1.9494 - accuracy: 0.4746 - val_loss: 1.8719 - val_accuracy: 0.4599\n",
      "Epoch 14/40\n",
      "60000/60000 [==============================] - 5s 82us/step - loss: 1.7987 - accuracy: 0.5080 - val_loss: 1.7021 - val_accuracy: 0.4784\n",
      "Epoch 15/40\n",
      "60000/60000 [==============================] - 5s 88us/step - loss: 1.6258 - accuracy: 0.5403 - val_loss: 1.5231 - val_accuracy: 0.5713\n",
      "Epoch 16/40\n",
      "60000/60000 [==============================] - 5s 89us/step - loss: 1.4567 - accuracy: 0.5717 - val_loss: 1.3618 - val_accuracy: 0.5918\n",
      "Epoch 17/40\n",
      "60000/60000 [==============================] - 5s 77us/step - loss: 1.3105 - accuracy: 0.5990 - val_loss: 1.2288 - val_accuracy: 0.6097\n",
      "Epoch 18/40\n",
      "60000/60000 [==============================] - 5s 76us/step - loss: 1.1921 - accuracy: 0.6243 - val_loss: 1.1233 - val_accuracy: 0.6566\n",
      "Epoch 19/40\n",
      "60000/60000 [==============================] - 5s 87us/step - loss: 1.0977 - accuracy: 0.6480 - val_loss: 1.0408 - val_accuracy: 0.6661\n",
      "Epoch 20/40\n",
      "60000/60000 [==============================] - 5s 77us/step - loss: 1.0223 - accuracy: 0.6704 - val_loss: 0.9739 - val_accuracy: 0.7039\n",
      "Epoch 21/40\n",
      "60000/60000 [==============================] - 4s 73us/step - loss: 0.9607 - accuracy: 0.6899 - val_loss: 0.9170 - val_accuracy: 0.6954\n",
      "Epoch 22/40\n",
      "60000/60000 [==============================] - 5s 83us/step - loss: 0.9090 - accuracy: 0.7067 - val_loss: 0.8684 - val_accuracy: 0.7243\n",
      "Epoch 23/40\n",
      "60000/60000 [==============================] - 5s 80us/step - loss: 0.8648 - accuracy: 0.7235 - val_loss: 0.8287 - val_accuracy: 0.7341\n",
      "Epoch 24/40\n",
      "60000/60000 [==============================] - 4s 70us/step - loss: 0.8260 - accuracy: 0.7395 - val_loss: 0.7915 - val_accuracy: 0.7510\n",
      "Epoch 25/40\n",
      "60000/60000 [==============================] - 5s 77us/step - loss: 0.7917 - accuracy: 0.7517 - val_loss: 0.7617 - val_accuracy: 0.7650\n",
      "Epoch 26/40\n",
      "60000/60000 [==============================] - 5s 85us/step - loss: 0.7603 - accuracy: 0.7637 - val_loss: 0.7297 - val_accuracy: 0.7764\n",
      "Epoch 27/40\n",
      "60000/60000 [==============================] - 4s 73us/step - loss: 0.7321 - accuracy: 0.7747 - val_loss: 0.7025 - val_accuracy: 0.7867\n",
      "Epoch 28/40\n",
      "60000/60000 [==============================] - 4s 74us/step - loss: 0.7056 - accuracy: 0.7850 - val_loss: 0.6770 - val_accuracy: 0.7931\n",
      "Epoch 29/40\n",
      "60000/60000 [==============================] - 5s 83us/step - loss: 0.6808 - accuracy: 0.7944 - val_loss: 0.6531 - val_accuracy: 0.8012\n",
      "Epoch 30/40\n",
      "60000/60000 [==============================] - 5s 76us/step - loss: 0.6580 - accuracy: 0.8019 - val_loss: 0.6314 - val_accuracy: 0.8121\n",
      "Epoch 31/40\n",
      "60000/60000 [==============================] - 5s 77us/step - loss: 0.6367 - accuracy: 0.8088 - val_loss: 0.6108 - val_accuracy: 0.8177\n",
      "Epoch 32/40\n",
      "60000/60000 [==============================] - 5s 80us/step - loss: 0.6170 - accuracy: 0.8167 - val_loss: 0.5910 - val_accuracy: 0.8247\n",
      "Epoch 33/40\n",
      "60000/60000 [==============================] - 5s 82us/step - loss: 0.5989 - accuracy: 0.8224 - val_loss: 0.5738 - val_accuracy: 0.8313\n",
      "Epoch 34/40\n",
      "60000/60000 [==============================] - 4s 72us/step - loss: 0.5823 - accuracy: 0.8281 - val_loss: 0.5582 - val_accuracy: 0.8378\n",
      "Epoch 35/40\n",
      "60000/60000 [==============================] - 4s 74us/step - loss: 0.5669 - accuracy: 0.8334 - val_loss: 0.5437 - val_accuracy: 0.8402\n",
      "Epoch 36/40\n",
      "60000/60000 [==============================] - 5s 89us/step - loss: 0.5530 - accuracy: 0.8383 - val_loss: 0.5296 - val_accuracy: 0.8447\n",
      "Epoch 37/40\n",
      "60000/60000 [==============================] - 4s 75us/step - loss: 0.5401 - accuracy: 0.8425 - val_loss: 0.5183 - val_accuracy: 0.8476\n",
      "Epoch 38/40\n",
      "60000/60000 [==============================] - 4s 70us/step - loss: 0.5280 - accuracy: 0.8464 - val_loss: 0.5056 - val_accuracy: 0.8533\n",
      "Epoch 39/40\n",
      "60000/60000 [==============================] - 5s 80us/step - loss: 0.5169 - accuracy: 0.8498 - val_loss: 0.4965 - val_accuracy: 0.8551\n",
      "Epoch 40/40\n",
      "60000/60000 [==============================] - 5s 81us/step - loss: 0.5069 - accuracy: 0.8536 - val_loss: 0.4854 - val_accuracy: 0.8588\n"
     ]
    },
    {
     "data": {
      "text/plain": [
       "<keras.callbacks.callbacks.History at 0x1cfce4fae48>"
      ]
     },
     "execution_count": 17,
     "metadata": {},
     "output_type": "execute_result"
    }
   ],
   "source": [
    "model.fit(X_train, y_train,epochs=40,batch_size=128,verbose=1,validation_data=(X_test,y_test))"
   ]
  },
  {
   "cell_type": "code",
   "execution_count": 18,
   "metadata": {},
   "outputs": [
    {
     "name": "stdout",
     "output_type": "stream",
     "text": [
      "10000/10000 [==============================] - 1s 55us/step\n"
     ]
    },
    {
     "data": {
      "text/plain": [
       "[0.48544650106430054, 0.8587999939918518]"
      ]
     },
     "execution_count": 18,
     "metadata": {},
     "output_type": "execute_result"
    }
   ],
   "source": [
    "model.evaluate(X_test,y_test)"
   ]
  },
  {
   "cell_type": "code",
   "execution_count": 24,
   "metadata": {},
   "outputs": [
    {
     "data": {
      "text/plain": [
       "<matplotlib.image.AxesImage at 0x1cfce1073c8>"
      ]
     },
     "execution_count": 24,
     "metadata": {},
     "output_type": "execute_result"
    },
    {
     "data": {
      "image/png": "[encoded data removed]",
      "text/plain": [
       "<Figure size 432x288 with 1 Axes>"
      ]
     },
     "metadata": {
      "needs_background": "light"
     },
     "output_type": "display_data"
    }
   ],
   "source": [
    "image=cv.imread('8.jpg',0)\n",
    "colorimage=cv.imread('8.jpg',1)\n",
    "plt.imshow(colorimage)"
   ]
  },
  {
   "cell_type": "code",
   "execution_count": 25,
   "metadata": {},
   "outputs": [],
   "source": [
    "imagereshape=image.reshape(-1,784)"
   ]
  },
  {
   "cell_type": "code",
   "execution_count": 26,
   "metadata": {},
   "outputs": [
    {
     "data": {
      "text/plain": [
       "(1, 784)"
      ]
     },
     "execution_count": 26,
     "metadata": {},
     "output_type": "execute_result"
    }
   ],
   "source": [
    "imagereshape.shape"
   ]
  },
  {
   "cell_type": "code",
   "execution_count": 27,
   "metadata": {},
   "outputs": [],
   "source": [
    "predicted=model.predict(imagereshape)"
   ]
  },
  {
   "cell_type": "code",
   "execution_count": 28,
   "metadata": {},
   "outputs": [
    {
     "name": "stdout",
     "output_type": "stream",
     "text": [
      "Predicted number is :8\n"
     ]
    }
   ],
   "source": [
    "print(\"Predicted number is :{}\".format(np.argmax(predicted)))"
   ]
  },
  {
   "cell_type": "code",
   "execution_count": null,
   "metadata": {},
   "outputs": [],
   "source": []
  }
 ],
 "metadata": {
  "kernelspec": {
   "display_name": "Python 3",
   "language": "python",
   "name": "python3"
  },
  "language_info": {
   "codemirror_mode": {
    "name": "ipython",
    "version": 3
   },
   "file_extension": ".py",
   "mimetype": "text/x-python",
   "name": "python",
   "nbconvert_exporter": "python",
   "pygments_lexer": "ipython3",
   "version": "3.6.6+"
  }
 },
 "nbformat": 4,
 "nbformat_minor": 4
}
