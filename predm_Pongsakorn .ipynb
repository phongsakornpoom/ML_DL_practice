{
 "cells": [
  {
   "cell_type": "markdown",
   "id": "086ff718",
   "metadata": {},
   "source": [
    "# This Assignment task consists of \n",
    "1. Data preparation\n",
    "2. Data splitting (train and test)\n",
    "3. Use data visualization for EDA"
   ]
  },
  {
   "cell_type": "markdown",
   "id": "f3a11cd6",
   "metadata": {},
   "source": [
    "# Lets import libraries\n",
    "1. Numpy (array)\n",
    "2. Pandas (dataframe, series and manipulating data)\n",
    "3. Matplotlib (for data visulization)\n",
    "4. Seaborn (nicer matplotlib visulization plot)\n",
    "5. sklearn preprocessing (for label encoder, Standardscaler and etc)\n",
    "6. sklearn model_selection (train_test_split)\n",
    "7. other sklearn model libraries"
   ]
  },
  {
   "cell_type": "code",
   "execution_count": 1,
   "id": "1d540e19",
   "metadata": {},
   "outputs": [],
   "source": [
    "import numpy as np\n",
    "import pandas as pd\n",
    "import matplotlib.pyplot as plt\n",
    "import seaborn as sns \n",
    "from sklearn.preprocessing import StandardScaler, LabelEncoder\n",
    "from sklearn.model_selection import train_test_split, GridSearchCV\n",
    "from sklearn.linear_model import LogisticRegression\n",
    "from sklearn.tree import DecisionTreeClassifier, plot_tree\n",
    "from sklearn.pipeline import Pipeline\n",
    "from sklearn.metrics import plot_confusion_matrix,confusion_matrix,classification_report"
   ]
  },
  {
   "cell_type": "markdown",
   "id": "8a437fa2",
   "metadata": {},
   "source": [
    "# 1.Data Preparation\n",
    "## Reading the data from CSV\n",
    "use `ls` to be sure if you are in the same directory of the file "
   ]
  },
  {
   "cell_type": "code",
   "execution_count": 2,
   "id": "e4f0d844",
   "metadata": {},
   "outputs": [
    {
     "name": "stdout",
     "output_type": "stream",
     "text": [
      " Volume in drive C has no label.\n",
      " Volume Serial Number is C61D-20DA\n",
      "\n",
      " Directory of C:\\Users\\HP\\OneDrive\\Mahidol\\Data mining\n",
      "\n",
      "10/16/2021  03:22 AM    <DIR>          .\n",
      "10/12/2021  09:19 AM    <DIR>          ..\n",
      "10/16/2021  01:57 AM    <DIR>          .ipynb_checkpoints\n",
      "10/12/2021  09:15 AM         3,056,227 predm.csv\n",
      "10/16/2021  03:22 AM           189,773 predm_Pongsakorn .ipynb\n",
      "               2 File(s)      3,246,000 bytes\n",
      "               3 Dir(s)  388,849,700,864 bytes free\n"
     ]
    }
   ],
   "source": [
    "ls"
   ]
  },
  {
   "cell_type": "markdown",
   "id": "a5b4aa6a",
   "metadata": {},
   "source": [
    "## Reading the data with `pd.read_csv` as it an CSV file\n",
    "as stated in the assignment use only ['age', 'gender', 'glu', 'hdl', 'ldl', 'bmi2dom', 'HbA1C']"
   ]
  },
  {
   "cell_type": "code",
   "execution_count": 3,
   "id": "d24e94b4",
   "metadata": {},
   "outputs": [],
   "source": [
    "df = pd.read_csv('predm.csv', usecols=['age', 'gender', 'glu', 'hdl', 'ldl', 'bmi2dom', 'HbA1C'])"
   ]
  },
  {
   "cell_type": "markdown",
   "id": "ab6f237c",
   "metadata": {},
   "source": [
    "## Basic exploration of the overview of the dataset\n",
    "Let check the first 10 columns with .head()"
   ]
  },
  {
   "cell_type": "code",
   "execution_count": 4,
   "id": "43579485",
   "metadata": {},
   "outputs": [
    {
     "data": {
      "text/html": [
       "<div>\n",
       "<style scoped>\n",
       "    .dataframe tbody tr th:only-of-type {\n",
       "        vertical-align: middle;\n",
       "    }\n",
       "\n",
       "    .dataframe tbody tr th {\n",
       "        vertical-align: top;\n",
       "    }\n",
       "\n",
       "    .dataframe thead th {\n",
       "        text-align: right;\n",
       "    }\n",
       "</style>\n",
       "<table border=\"1\" class=\"dataframe\">\n",
       "  <thead>\n",
       "    <tr style=\"text-align: right;\">\n",
       "      <th></th>\n",
       "      <th>age</th>\n",
       "      <th>gender</th>\n",
       "      <th>glu</th>\n",
       "      <th>hdl</th>\n",
       "      <th>ldl</th>\n",
       "      <th>bmi2dom</th>\n",
       "      <th>HbA1C</th>\n",
       "    </tr>\n",
       "  </thead>\n",
       "  <tbody>\n",
       "    <tr>\n",
       "      <th>0</th>\n",
       "      <td>51.0</td>\n",
       "      <td>1</td>\n",
       "      <td>105</td>\n",
       "      <td>40</td>\n",
       "      <td>150</td>\n",
       "      <td>27.0</td>\n",
       "      <td>NaN</td>\n",
       "    </tr>\n",
       "    <tr>\n",
       "      <th>1</th>\n",
       "      <td>53.0</td>\n",
       "      <td>1</td>\n",
       "      <td>110</td>\n",
       "      <td>71</td>\n",
       "      <td>140</td>\n",
       "      <td>30.0</td>\n",
       "      <td>6.3</td>\n",
       "    </tr>\n",
       "    <tr>\n",
       "      <th>2</th>\n",
       "      <td>53.0</td>\n",
       "      <td>1</td>\n",
       "      <td>123</td>\n",
       "      <td>51</td>\n",
       "      <td>103</td>\n",
       "      <td>28.0</td>\n",
       "      <td>NaN</td>\n",
       "    </tr>\n",
       "    <tr>\n",
       "      <th>3</th>\n",
       "      <td>52.0</td>\n",
       "      <td>1</td>\n",
       "      <td>110</td>\n",
       "      <td>50</td>\n",
       "      <td>118</td>\n",
       "      <td>NaN</td>\n",
       "      <td>NaN</td>\n",
       "    </tr>\n",
       "    <tr>\n",
       "      <th>4</th>\n",
       "      <td>52.0</td>\n",
       "      <td>1</td>\n",
       "      <td>99</td>\n",
       "      <td>42</td>\n",
       "      <td>101</td>\n",
       "      <td>25.0</td>\n",
       "      <td>NaN</td>\n",
       "    </tr>\n",
       "    <tr>\n",
       "      <th>5</th>\n",
       "      <td>53.0</td>\n",
       "      <td>1</td>\n",
       "      <td>101</td>\n",
       "      <td>56</td>\n",
       "      <td>182</td>\n",
       "      <td>23.0</td>\n",
       "      <td>5.8</td>\n",
       "    </tr>\n",
       "    <tr>\n",
       "      <th>6</th>\n",
       "      <td>53.0</td>\n",
       "      <td>1</td>\n",
       "      <td>106</td>\n",
       "      <td>65</td>\n",
       "      <td>115</td>\n",
       "      <td>23.0</td>\n",
       "      <td>5.6</td>\n",
       "    </tr>\n",
       "    <tr>\n",
       "      <th>7</th>\n",
       "      <td>50.0</td>\n",
       "      <td>1</td>\n",
       "      <td>114</td>\n",
       "      <td>68</td>\n",
       "      <td>166</td>\n",
       "      <td>26.0</td>\n",
       "      <td>7.0</td>\n",
       "    </tr>\n",
       "    <tr>\n",
       "      <th>8</th>\n",
       "      <td>53.0</td>\n",
       "      <td>1</td>\n",
       "      <td>117</td>\n",
       "      <td>32</td>\n",
       "      <td>121</td>\n",
       "      <td>21.0</td>\n",
       "      <td>7.9</td>\n",
       "    </tr>\n",
       "    <tr>\n",
       "      <th>9</th>\n",
       "      <td>52.0</td>\n",
       "      <td>1</td>\n",
       "      <td>97</td>\n",
       "      <td>48</td>\n",
       "      <td>184</td>\n",
       "      <td>23.0</td>\n",
       "      <td>5.8</td>\n",
       "    </tr>\n",
       "  </tbody>\n",
       "</table>\n",
       "</div>"
      ],
      "text/plain": [
       "    age  gender  glu  hdl  ldl  bmi2dom  HbA1C\n",
       "0  51.0       1  105   40  150     27.0    NaN\n",
       "1  53.0       1  110   71  140     30.0    6.3\n",
       "2  53.0       1  123   51  103     28.0    NaN\n",
       "3  52.0       1  110   50  118      NaN    NaN\n",
       "4  52.0       1   99   42  101     25.0    NaN\n",
       "5  53.0       1  101   56  182     23.0    5.8\n",
       "6  53.0       1  106   65  115     23.0    5.6\n",
       "7  50.0       1  114   68  166     26.0    7.0\n",
       "8  53.0       1  117   32  121     21.0    7.9\n",
       "9  52.0       1   97   48  184     23.0    5.8"
      ]
     },
     "execution_count": 4,
     "metadata": {},
     "output_type": "execute_result"
    }
   ],
   "source": [
    "df.head(10)"
   ]
  },
  {
   "cell_type": "markdown",
   "id": "1c2bc077",
   "metadata": {},
   "source": [
    "### use `describe` to see the descritive statistic \n",
    "from the result, we can see the std of the each column and min and max of it.Also thing such as the mean and each quantile"
   ]
  },
  {
   "cell_type": "code",
   "execution_count": 5,
   "id": "17e895d5",
   "metadata": {},
   "outputs": [
    {
     "data": {
      "text/html": [
       "<div>\n",
       "<style scoped>\n",
       "    .dataframe tbody tr th:only-of-type {\n",
       "        vertical-align: middle;\n",
       "    }\n",
       "\n",
       "    .dataframe tbody tr th {\n",
       "        vertical-align: top;\n",
       "    }\n",
       "\n",
       "    .dataframe thead th {\n",
       "        text-align: right;\n",
       "    }\n",
       "</style>\n",
       "<table border=\"1\" class=\"dataframe\">\n",
       "  <thead>\n",
       "    <tr style=\"text-align: right;\">\n",
       "      <th></th>\n",
       "      <th>age</th>\n",
       "      <th>gender</th>\n",
       "      <th>glu</th>\n",
       "      <th>hdl</th>\n",
       "      <th>ldl</th>\n",
       "      <th>bmi2dom</th>\n",
       "      <th>HbA1C</th>\n",
       "    </tr>\n",
       "  </thead>\n",
       "  <tbody>\n",
       "    <tr>\n",
       "      <th>count</th>\n",
       "      <td>484.000000</td>\n",
       "      <td>489.000000</td>\n",
       "      <td>489.000000</td>\n",
       "      <td>489.000000</td>\n",
       "      <td>489.000000</td>\n",
       "      <td>480.000000</td>\n",
       "      <td>431.000000</td>\n",
       "    </tr>\n",
       "    <tr>\n",
       "      <th>mean</th>\n",
       "      <td>43.487603</td>\n",
       "      <td>1.134969</td>\n",
       "      <td>104.036810</td>\n",
       "      <td>47.488753</td>\n",
       "      <td>151.642127</td>\n",
       "      <td>25.772917</td>\n",
       "      <td>6.033875</td>\n",
       "    </tr>\n",
       "    <tr>\n",
       "      <th>std</th>\n",
       "      <td>6.475455</td>\n",
       "      <td>0.342041</td>\n",
       "      <td>7.434873</td>\n",
       "      <td>9.956482</td>\n",
       "      <td>39.740458</td>\n",
       "      <td>3.910867</td>\n",
       "      <td>1.099921</td>\n",
       "    </tr>\n",
       "    <tr>\n",
       "      <th>min</th>\n",
       "      <td>25.000000</td>\n",
       "      <td>1.000000</td>\n",
       "      <td>97.000000</td>\n",
       "      <td>21.000000</td>\n",
       "      <td>53.000000</td>\n",
       "      <td>17.000000</td>\n",
       "      <td>4.500000</td>\n",
       "    </tr>\n",
       "    <tr>\n",
       "      <th>25%</th>\n",
       "      <td>39.000000</td>\n",
       "      <td>1.000000</td>\n",
       "      <td>99.000000</td>\n",
       "      <td>41.000000</td>\n",
       "      <td>124.000000</td>\n",
       "      <td>23.000000</td>\n",
       "      <td>5.500000</td>\n",
       "    </tr>\n",
       "    <tr>\n",
       "      <th>50%</th>\n",
       "      <td>44.000000</td>\n",
       "      <td>1.000000</td>\n",
       "      <td>101.000000</td>\n",
       "      <td>46.000000</td>\n",
       "      <td>151.000000</td>\n",
       "      <td>25.000000</td>\n",
       "      <td>5.800000</td>\n",
       "    </tr>\n",
       "    <tr>\n",
       "      <th>75%</th>\n",
       "      <td>49.000000</td>\n",
       "      <td>1.000000</td>\n",
       "      <td>106.000000</td>\n",
       "      <td>53.000000</td>\n",
       "      <td>180.000000</td>\n",
       "      <td>28.000000</td>\n",
       "      <td>6.100000</td>\n",
       "    </tr>\n",
       "    <tr>\n",
       "      <th>max</th>\n",
       "      <td>77.000000</td>\n",
       "      <td>2.000000</td>\n",
       "      <td>124.000000</td>\n",
       "      <td>95.000000</td>\n",
       "      <td>351.000000</td>\n",
       "      <td>48.000000</td>\n",
       "      <td>17.500000</td>\n",
       "    </tr>\n",
       "  </tbody>\n",
       "</table>\n",
       "</div>"
      ],
      "text/plain": [
       "              age      gender         glu         hdl         ldl     bmi2dom  \\\n",
       "count  484.000000  489.000000  489.000000  489.000000  489.000000  480.000000   \n",
       "mean    43.487603    1.134969  104.036810   47.488753  151.642127   25.772917   \n",
       "std      6.475455    0.342041    7.434873    9.956482   39.740458    3.910867   \n",
       "min     25.000000    1.000000   97.000000   21.000000   53.000000   17.000000   \n",
       "25%     39.000000    1.000000   99.000000   41.000000  124.000000   23.000000   \n",
       "50%     44.000000    1.000000  101.000000   46.000000  151.000000   25.000000   \n",
       "75%     49.000000    1.000000  106.000000   53.000000  180.000000   28.000000   \n",
       "max     77.000000    2.000000  124.000000   95.000000  351.000000   48.000000   \n",
       "\n",
       "            HbA1C  \n",
       "count  431.000000  \n",
       "mean     6.033875  \n",
       "std      1.099921  \n",
       "min      4.500000  \n",
       "25%      5.500000  \n",
       "50%      5.800000  \n",
       "75%      6.100000  \n",
       "max     17.500000  "
      ]
     },
     "execution_count": 5,
     "metadata": {},
     "output_type": "execute_result"
    }
   ],
   "source": [
    "df.describe()"
   ]
  },
  {
   "cell_type": "markdown",
   "id": "62a761a9",
   "metadata": {},
   "source": [
    "using `df.info()` return a list that tell us info on each features(column)\n",
    "<b>Insight: </b>As there are 489 records(rows). we can see that age,bmi2dom,HbA1C are missing some rows. Moreover, we can see that there are two data types in this list, which are float64 and int64"
   ]
  },
  {
   "cell_type": "code",
   "execution_count": 6,
   "id": "5c0c1913",
   "metadata": {},
   "outputs": [
    {
     "name": "stdout",
     "output_type": "stream",
     "text": [
      "<class 'pandas.core.frame.DataFrame'>\n",
      "RangeIndex: 489 entries, 0 to 488\n",
      "Data columns (total 7 columns):\n",
      " #   Column   Non-Null Count  Dtype  \n",
      "---  ------   --------------  -----  \n",
      " 0   age      484 non-null    float64\n",
      " 1   gender   489 non-null    int64  \n",
      " 2   glu      489 non-null    int64  \n",
      " 3   hdl      489 non-null    int64  \n",
      " 4   ldl      489 non-null    int64  \n",
      " 5   bmi2dom  480 non-null    float64\n",
      " 6   HbA1C    431 non-null    float64\n",
      "dtypes: float64(3), int64(4)\n",
      "memory usage: 26.9 KB\n"
     ]
    }
   ],
   "source": [
    "df.info()"
   ]
  },
  {
   "cell_type": "markdown",
   "id": "21f2add8",
   "metadata": {},
   "source": [
    "# Dealing with missing data\n",
    "the `df.isna()` function return a dataset with boolean type. True means nan(Not a number) and False means not nan. However returning this is not useful so the sum() function sum up the True as 1 this return us the missing value of each column in form of series.\n",
    "\n",
    "### Insight from the result below there are 5 missing values in age columns and around 58 for HbA1C"
   ]
  },
  {
   "cell_type": "code",
   "execution_count": 7,
   "id": "aab3f3d5",
   "metadata": {},
   "outputs": [
    {
     "data": {
      "text/plain": [
       "age         5\n",
       "gender      0\n",
       "glu         0\n",
       "hdl         0\n",
       "ldl         0\n",
       "bmi2dom     9\n",
       "HbA1C      58\n",
       "dtype: int64"
      ]
     },
     "execution_count": 7,
     "metadata": {},
     "output_type": "execute_result"
    }
   ],
   "source": [
    "df.isna().sum()"
   ]
  },
  {
   "cell_type": "markdown",
   "id": "2ad5861a",
   "metadata": {},
   "source": [
    "## Drop NAN value\n",
    "using `df.dropna(axis = 0)` to drop the missing value by row(axis = 0). If set as axis=1 it will drop the whole column with missing value which is not ideal in our scenario "
   ]
  },
  {
   "cell_type": "code",
   "execution_count": 8,
   "id": "cba61faf",
   "metadata": {},
   "outputs": [],
   "source": [
    "df = df.dropna(axis = 0)"
   ]
  },
  {
   "cell_type": "markdown",
   "id": "493e7877",
   "metadata": {},
   "source": [
    "Checking if the missing data is dropped\n",
    "\n",
    "<b>Insight</b> : The function returned 0 in all columns this indicates that there is no missing value left"
   ]
  },
  {
   "cell_type": "code",
   "execution_count": 9,
   "id": "08b530fc",
   "metadata": {},
   "outputs": [
    {
     "data": {
      "text/plain": [
       "age        0\n",
       "gender     0\n",
       "glu        0\n",
       "hdl        0\n",
       "ldl        0\n",
       "bmi2dom    0\n",
       "HbA1C      0\n",
       "dtype: int64"
      ]
     },
     "execution_count": 9,
     "metadata": {},
     "output_type": "execute_result"
    }
   ],
   "source": [
    "df.isna().sum()"
   ]
  },
  {
   "cell_type": "markdown",
   "id": "2fe6310b",
   "metadata": {},
   "source": [
    "# Data Encoding\n",
    "1. map the target column y (HbA1C) into yes(>=6.5) else no\n",
    "\n",
    "## Explore current df \n",
    "<b>Insight:</b> No missing data now"
   ]
  },
  {
   "cell_type": "code",
   "execution_count": 10,
   "id": "e6fd87e7",
   "metadata": {},
   "outputs": [
    {
     "data": {
      "text/html": [
       "<div>\n",
       "<style scoped>\n",
       "    .dataframe tbody tr th:only-of-type {\n",
       "        vertical-align: middle;\n",
       "    }\n",
       "\n",
       "    .dataframe tbody tr th {\n",
       "        vertical-align: top;\n",
       "    }\n",
       "\n",
       "    .dataframe thead th {\n",
       "        text-align: right;\n",
       "    }\n",
       "</style>\n",
       "<table border=\"1\" class=\"dataframe\">\n",
       "  <thead>\n",
       "    <tr style=\"text-align: right;\">\n",
       "      <th></th>\n",
       "      <th>age</th>\n",
       "      <th>gender</th>\n",
       "      <th>glu</th>\n",
       "      <th>hdl</th>\n",
       "      <th>ldl</th>\n",
       "      <th>bmi2dom</th>\n",
       "      <th>HbA1C</th>\n",
       "    </tr>\n",
       "  </thead>\n",
       "  <tbody>\n",
       "    <tr>\n",
       "      <th>1</th>\n",
       "      <td>53.0</td>\n",
       "      <td>1</td>\n",
       "      <td>110</td>\n",
       "      <td>71</td>\n",
       "      <td>140</td>\n",
       "      <td>30.0</td>\n",
       "      <td>6.3</td>\n",
       "    </tr>\n",
       "    <tr>\n",
       "      <th>5</th>\n",
       "      <td>53.0</td>\n",
       "      <td>1</td>\n",
       "      <td>101</td>\n",
       "      <td>56</td>\n",
       "      <td>182</td>\n",
       "      <td>23.0</td>\n",
       "      <td>5.8</td>\n",
       "    </tr>\n",
       "    <tr>\n",
       "      <th>6</th>\n",
       "      <td>53.0</td>\n",
       "      <td>1</td>\n",
       "      <td>106</td>\n",
       "      <td>65</td>\n",
       "      <td>115</td>\n",
       "      <td>23.0</td>\n",
       "      <td>5.6</td>\n",
       "    </tr>\n",
       "    <tr>\n",
       "      <th>7</th>\n",
       "      <td>50.0</td>\n",
       "      <td>1</td>\n",
       "      <td>114</td>\n",
       "      <td>68</td>\n",
       "      <td>166</td>\n",
       "      <td>26.0</td>\n",
       "      <td>7.0</td>\n",
       "    </tr>\n",
       "    <tr>\n",
       "      <th>8</th>\n",
       "      <td>53.0</td>\n",
       "      <td>1</td>\n",
       "      <td>117</td>\n",
       "      <td>32</td>\n",
       "      <td>121</td>\n",
       "      <td>21.0</td>\n",
       "      <td>7.9</td>\n",
       "    </tr>\n",
       "  </tbody>\n",
       "</table>\n",
       "</div>"
      ],
      "text/plain": [
       "    age  gender  glu  hdl  ldl  bmi2dom  HbA1C\n",
       "1  53.0       1  110   71  140     30.0    6.3\n",
       "5  53.0       1  101   56  182     23.0    5.8\n",
       "6  53.0       1  106   65  115     23.0    5.6\n",
       "7  50.0       1  114   68  166     26.0    7.0\n",
       "8  53.0       1  117   32  121     21.0    7.9"
      ]
     },
     "execution_count": 10,
     "metadata": {},
     "output_type": "execute_result"
    }
   ],
   "source": [
    "df.head()"
   ]
  },
  {
   "cell_type": "markdown",
   "id": "44fca66c",
   "metadata": {},
   "source": [
    "# Mapping value in HbA1C which have more or equal to 6.5 as yes else no\n",
    "using `apply` and `lambda`to replace the HbA1C with yes and no instead of numerical to tell they have diabetes"
   ]
  },
  {
   "cell_type": "code",
   "execution_count": 11,
   "id": "7c1a9e7c",
   "metadata": {},
   "outputs": [],
   "source": [
    "df['dm'] = df['HbA1C'].apply(lambda x: 'yes' if x>=6.5 else 'no')"
   ]
  },
  {
   "cell_type": "markdown",
   "id": "2e887dee",
   "metadata": {},
   "source": [
    "The HbA1c columns has been mapped to no and yes"
   ]
  },
  {
   "cell_type": "code",
   "execution_count": 12,
   "id": "de5d7360",
   "metadata": {},
   "outputs": [
    {
     "data": {
      "text/html": [
       "<div>\n",
       "<style scoped>\n",
       "    .dataframe tbody tr th:only-of-type {\n",
       "        vertical-align: middle;\n",
       "    }\n",
       "\n",
       "    .dataframe tbody tr th {\n",
       "        vertical-align: top;\n",
       "    }\n",
       "\n",
       "    .dataframe thead th {\n",
       "        text-align: right;\n",
       "    }\n",
       "</style>\n",
       "<table border=\"1\" class=\"dataframe\">\n",
       "  <thead>\n",
       "    <tr style=\"text-align: right;\">\n",
       "      <th></th>\n",
       "      <th>age</th>\n",
       "      <th>gender</th>\n",
       "      <th>glu</th>\n",
       "      <th>hdl</th>\n",
       "      <th>ldl</th>\n",
       "      <th>bmi2dom</th>\n",
       "      <th>HbA1C</th>\n",
       "      <th>dm</th>\n",
       "    </tr>\n",
       "  </thead>\n",
       "  <tbody>\n",
       "    <tr>\n",
       "      <th>1</th>\n",
       "      <td>53.0</td>\n",
       "      <td>1</td>\n",
       "      <td>110</td>\n",
       "      <td>71</td>\n",
       "      <td>140</td>\n",
       "      <td>30.0</td>\n",
       "      <td>6.3</td>\n",
       "      <td>no</td>\n",
       "    </tr>\n",
       "    <tr>\n",
       "      <th>5</th>\n",
       "      <td>53.0</td>\n",
       "      <td>1</td>\n",
       "      <td>101</td>\n",
       "      <td>56</td>\n",
       "      <td>182</td>\n",
       "      <td>23.0</td>\n",
       "      <td>5.8</td>\n",
       "      <td>no</td>\n",
       "    </tr>\n",
       "    <tr>\n",
       "      <th>6</th>\n",
       "      <td>53.0</td>\n",
       "      <td>1</td>\n",
       "      <td>106</td>\n",
       "      <td>65</td>\n",
       "      <td>115</td>\n",
       "      <td>23.0</td>\n",
       "      <td>5.6</td>\n",
       "      <td>no</td>\n",
       "    </tr>\n",
       "    <tr>\n",
       "      <th>7</th>\n",
       "      <td>50.0</td>\n",
       "      <td>1</td>\n",
       "      <td>114</td>\n",
       "      <td>68</td>\n",
       "      <td>166</td>\n",
       "      <td>26.0</td>\n",
       "      <td>7.0</td>\n",
       "      <td>yes</td>\n",
       "    </tr>\n",
       "    <tr>\n",
       "      <th>8</th>\n",
       "      <td>53.0</td>\n",
       "      <td>1</td>\n",
       "      <td>117</td>\n",
       "      <td>32</td>\n",
       "      <td>121</td>\n",
       "      <td>21.0</td>\n",
       "      <td>7.9</td>\n",
       "      <td>yes</td>\n",
       "    </tr>\n",
       "  </tbody>\n",
       "</table>\n",
       "</div>"
      ],
      "text/plain": [
       "    age  gender  glu  hdl  ldl  bmi2dom  HbA1C   dm\n",
       "1  53.0       1  110   71  140     30.0    6.3   no\n",
       "5  53.0       1  101   56  182     23.0    5.8   no\n",
       "6  53.0       1  106   65  115     23.0    5.6   no\n",
       "7  50.0       1  114   68  166     26.0    7.0  yes\n",
       "8  53.0       1  117   32  121     21.0    7.9  yes"
      ]
     },
     "execution_count": 12,
     "metadata": {},
     "output_type": "execute_result"
    }
   ],
   "source": [
    "df.head()"
   ]
  },
  {
   "cell_type": "markdown",
   "id": "9a126cc2",
   "metadata": {},
   "source": [
    "## Binary Encoding on dm to yield value of 1 and 0\n",
    "1. using label encoder\n",
    "2. using get dummies\n",
    "3. using map\n",
    "\n",
    "These 3 method will return similar result. Which encode categorical value into integer.\n",
    "\n",
    "This is `map` method(let assign it to dm_encoded for further data exploration below)"
   ]
  },
  {
   "cell_type": "code",
   "execution_count": 13,
   "id": "8f6860da",
   "metadata": {},
   "outputs": [
    {
     "data": {
      "text/plain": [
       "1    0\n",
       "5    0\n",
       "6    0\n",
       "7    1\n",
       "8    1\n",
       "Name: dm_encoded, dtype: int64"
      ]
     },
     "execution_count": 13,
     "metadata": {},
     "output_type": "execute_result"
    }
   ],
   "source": [
    "df['dm_encoded']=pd.DataFrame(df['dm'].map({'yes':1,'no':0}))\n",
    "df['dm_encoded'].head()"
   ]
  },
  {
   "cell_type": "markdown",
   "id": "ec4f6ee9",
   "metadata": {},
   "source": [
    "This is `get dummies` method from pandas. It is quite normal to set drop_first as True as the first column can be interpret when other column is false"
   ]
  },
  {
   "cell_type": "code",
   "execution_count": 14,
   "id": "28ed64c5",
   "metadata": {},
   "outputs": [
    {
     "data": {
      "text/html": [
       "<div>\n",
       "<style scoped>\n",
       "    .dataframe tbody tr th:only-of-type {\n",
       "        vertical-align: middle;\n",
       "    }\n",
       "\n",
       "    .dataframe tbody tr th {\n",
       "        vertical-align: top;\n",
       "    }\n",
       "\n",
       "    .dataframe thead th {\n",
       "        text-align: right;\n",
       "    }\n",
       "</style>\n",
       "<table border=\"1\" class=\"dataframe\">\n",
       "  <thead>\n",
       "    <tr style=\"text-align: right;\">\n",
       "      <th></th>\n",
       "      <th>yes</th>\n",
       "    </tr>\n",
       "  </thead>\n",
       "  <tbody>\n",
       "    <tr>\n",
       "      <th>1</th>\n",
       "      <td>0</td>\n",
       "    </tr>\n",
       "    <tr>\n",
       "      <th>5</th>\n",
       "      <td>0</td>\n",
       "    </tr>\n",
       "    <tr>\n",
       "      <th>6</th>\n",
       "      <td>0</td>\n",
       "    </tr>\n",
       "    <tr>\n",
       "      <th>7</th>\n",
       "      <td>1</td>\n",
       "    </tr>\n",
       "    <tr>\n",
       "      <th>8</th>\n",
       "      <td>1</td>\n",
       "    </tr>\n",
       "  </tbody>\n",
       "</table>\n",
       "</div>"
      ],
      "text/plain": [
       "   yes\n",
       "1    0\n",
       "5    0\n",
       "6    0\n",
       "7    1\n",
       "8    1"
      ]
     },
     "execution_count": 14,
     "metadata": {},
     "output_type": "execute_result"
    }
   ],
   "source": [
    "(pd.get_dummies(df['dm'], drop_first=True)).head()"
   ]
  },
  {
   "cell_type": "markdown",
   "id": "6e1f11a9",
   "metadata": {},
   "source": [
    "`LabelEncoder` from sklearn.preprocessing also perform a similar job"
   ]
  },
  {
   "cell_type": "code",
   "execution_count": 15,
   "id": "c41c5f62",
   "metadata": {},
   "outputs": [
    {
     "data": {
      "text/html": [
       "<div>\n",
       "<style scoped>\n",
       "    .dataframe tbody tr th:only-of-type {\n",
       "        vertical-align: middle;\n",
       "    }\n",
       "\n",
       "    .dataframe tbody tr th {\n",
       "        vertical-align: top;\n",
       "    }\n",
       "\n",
       "    .dataframe thead th {\n",
       "        text-align: right;\n",
       "    }\n",
       "</style>\n",
       "<table border=\"1\" class=\"dataframe\">\n",
       "  <thead>\n",
       "    <tr style=\"text-align: right;\">\n",
       "      <th></th>\n",
       "      <th>dm</th>\n",
       "    </tr>\n",
       "  </thead>\n",
       "  <tbody>\n",
       "    <tr>\n",
       "      <th>0</th>\n",
       "      <td>0</td>\n",
       "    </tr>\n",
       "    <tr>\n",
       "      <th>1</th>\n",
       "      <td>0</td>\n",
       "    </tr>\n",
       "    <tr>\n",
       "      <th>2</th>\n",
       "      <td>0</td>\n",
       "    </tr>\n",
       "    <tr>\n",
       "      <th>3</th>\n",
       "      <td>1</td>\n",
       "    </tr>\n",
       "    <tr>\n",
       "      <th>4</th>\n",
       "      <td>1</td>\n",
       "    </tr>\n",
       "  </tbody>\n",
       "</table>\n",
       "</div>"
      ],
      "text/plain": [
       "   dm\n",
       "0   0\n",
       "1   0\n",
       "2   0\n",
       "3   1\n",
       "4   1"
      ]
     },
     "execution_count": 15,
     "metadata": {},
     "output_type": "execute_result"
    }
   ],
   "source": [
    "labelencoder = LabelEncoder()#need to create an instance first\n",
    "(pd.DataFrame(labelencoder.fit_transform(df['dm']),columns =['dm'])).head()"
   ]
  },
  {
   "cell_type": "markdown",
   "id": "dad270c8",
   "metadata": {},
   "source": [
    "`labelencoder` has a method called `classes_` this return what is encoded in index order. To intiate this type in `labelencoder.classes_`"
   ]
  },
  {
   "cell_type": "code",
   "execution_count": 16,
   "id": "c6988f08",
   "metadata": {},
   "outputs": [
    {
     "data": {
      "text/plain": [
       "array(['no', 'yes'], dtype=object)"
      ]
     },
     "execution_count": 16,
     "metadata": {},
     "output_type": "execute_result"
    }
   ],
   "source": [
    "labelencoder.classes_"
   ]
  },
  {
   "cell_type": "markdown",
   "id": "c0dd267e",
   "metadata": {},
   "source": [
    "# Splitting data into train and test\n",
    "1. Clarify X and y\n",
    "2. Using sklearn.model_selection.train_test_split\n",
    "3. using Poom train_test_split function from scratch\n",
    "\n",
    "### Our y (Output) is dm column ,therefore, our X (Input) will be all the features excluding dm and dm_encoded"
   ]
  },
  {
   "cell_type": "code",
   "execution_count": 17,
   "id": "21e9d375",
   "metadata": {},
   "outputs": [],
   "source": [
    "X = df.drop(['dm','dm_encoded'],axis = 1)\n",
    "y = df['dm']"
   ]
  },
  {
   "cell_type": "markdown",
   "id": "a627e2b7",
   "metadata": {},
   "source": [
    "## Lets try the train_test_split from sklearn.model_selection\n",
    "set test size as 0.2 this mean the training set will be 0.7 of the original data and random_state as 42"
   ]
  },
  {
   "cell_type": "code",
   "execution_count": 18,
   "id": "bfeea625",
   "metadata": {},
   "outputs": [],
   "source": [
    "from sklearn.model_selection import train_test_split"
   ]
  },
  {
   "cell_type": "code",
   "execution_count": 19,
   "id": "f2a36d18",
   "metadata": {},
   "outputs": [],
   "source": [
    "X_train, X_test, y_train, y_test = train_test_split(X, y, test_size=0.2,random_state = 42)"
   ]
  },
  {
   "cell_type": "markdown",
   "id": "cb96dd81",
   "metadata": {},
   "source": [
    "Check the shape of X_train,X_test, y_train and y_test "
   ]
  },
  {
   "cell_type": "code",
   "execution_count": 20,
   "id": "7af69d88",
   "metadata": {},
   "outputs": [
    {
     "name": "stdout",
     "output_type": "stream",
     "text": [
      "X_train shape:(340, 7), X_test shape: (85, 7), y_train shape:(340,), y_test shape: (85,) \n"
     ]
    }
   ],
   "source": [
    "print(f'X_train shape:{X_train.shape}, X_test shape: {X_test.shape}, y_train shape:{y_train.shape}, y_test shape: {y_test.shape} ')"
   ]
  },
  {
   "cell_type": "markdown",
   "id": "8eb076cf",
   "metadata": {},
   "source": [
    "## Lets try my own train_test_split function\n",
    "set test size as 0.2 this mean the training set will be 0.7 of the original data and random_state as 42\n",
    "\n",
    "The function consists of\n",
    "1. setting the random_state so it will match with the original function and came from the same distribution\n",
    "2. using permutation for randomly ranging indexes\n",
    "3. slicing within the indexing of the x and y according to the test size * n then cast to int() in order to round it up\n",
    "\n",
    "<b>check the comment for row by row explanation</b>"
   ]
  },
  {
   "cell_type": "code",
   "execution_count": 21,
   "id": "a429f51e",
   "metadata": {},
   "outputs": [],
   "source": [
    "def poom_train_test_split(x,y,test_size=0.2, random_state = 42):#function parameters are x, test size and randome state\n",
    "    import numpy as np# import numpy incase the user didnt import it \n",
    "    np.random.random_state(random_state)#set random state\n",
    "    perm = np.random.permutation(len(x))# create a numpy array with random variation of number within the len of x\n",
    "    sliced = int(len(x)*test_size)# create the number of test size and round it if decimal with int()\n",
    "    x_train = x[perm[sliced:]]# slicing for xtrain\n",
    "    y_train = y[perm[sliced:]]# slicing for ytrain\n",
    "    x_test = x[perm[:sliced]]# slicing for xtest\n",
    "    y_test = y[perm[:sliced]]# slicing for ytest\n",
    "    return x_train, x_test, y_train, y_test # return in the same manner as sklearn train test split format"
   ]
  },
  {
   "cell_type": "code",
   "execution_count": 22,
   "id": "0958b955",
   "metadata": {},
   "outputs": [],
   "source": [
    "poom_X_train, poom_X_test, poom_y_train, poom_y_test = train_test_split(X, y, test_size=0.2,random_state = 42)"
   ]
  },
  {
   "cell_type": "markdown",
   "id": "10105eeb",
   "metadata": {},
   "source": [
    "Check the shape of poom_X_train,poom_X_test, poom_y_train and poom_y_test "
   ]
  },
  {
   "cell_type": "code",
   "execution_count": 23,
   "id": "02f714a4",
   "metadata": {},
   "outputs": [
    {
     "name": "stdout",
     "output_type": "stream",
     "text": [
      "poom_X_train shape:(340, 7), poom_X_test shape: (85, 7), poom_y_train shape:(340,), poom_y_test shape: (85,) \n"
     ]
    }
   ],
   "source": [
    "print(f'poom_X_train shape:{poom_X_train.shape}, poom_X_test shape: {poom_X_test.shape}, poom_y_train shape:{poom_y_train.shape}, poom_y_test shape: {poom_y_test.shape} ')"
   ]
  },
  {
   "cell_type": "markdown",
   "id": "be21cc46",
   "metadata": {},
   "source": [
    "# Comparison of Sklearn train test split result against Poom train test split\n"
   ]
  },
  {
   "cell_type": "markdown",
   "id": "29a4884e",
   "metadata": {},
   "source": [
    "train shape comparison\n",
    "\n",
    "<b>Insight:</b> Both the sklearn train test split and the one from scratch (poom train test split) yield the same result and same index distribution"
   ]
  },
  {
   "cell_type": "code",
   "execution_count": 24,
   "id": "739ed597",
   "metadata": {},
   "outputs": [
    {
     "data": {
      "text/plain": [
       "age        1.0\n",
       "gender     1.0\n",
       "glu        1.0\n",
       "hdl        1.0\n",
       "ldl        1.0\n",
       "bmi2dom    1.0\n",
       "HbA1C      1.0\n",
       "dtype: float64"
      ]
     },
     "execution_count": 24,
     "metadata": {},
     "output_type": "execute_result"
    }
   ],
   "source": [
    "np.mean(X_train == poom_X_train)"
   ]
  },
  {
   "cell_type": "code",
   "execution_count": 25,
   "id": "6251d7e9",
   "metadata": {},
   "outputs": [
    {
     "data": {
      "text/plain": [
       "1.0"
      ]
     },
     "execution_count": 25,
     "metadata": {},
     "output_type": "execute_result"
    }
   ],
   "source": [
    "np.mean(y_train ==poom_y_train)"
   ]
  },
  {
   "cell_type": "markdown",
   "id": "58c91059",
   "metadata": {},
   "source": [
    "check by index random"
   ]
  },
  {
   "cell_type": "code",
   "execution_count": 26,
   "id": "a4c88147",
   "metadata": {},
   "outputs": [
    {
     "data": {
      "text/plain": [
       "array([ True,  True,  True,  True,  True,  True,  True,  True,  True,\n",
       "        True,  True,  True,  True,  True,  True,  True,  True,  True,\n",
       "        True,  True,  True,  True,  True,  True,  True,  True,  True,\n",
       "        True,  True,  True,  True,  True,  True,  True,  True,  True,\n",
       "        True,  True,  True,  True,  True,  True,  True,  True,  True,\n",
       "        True,  True,  True,  True,  True,  True,  True,  True,  True,\n",
       "        True,  True,  True,  True,  True,  True,  True,  True,  True,\n",
       "        True,  True,  True,  True,  True,  True,  True,  True,  True,\n",
       "        True,  True,  True,  True,  True,  True,  True,  True,  True,\n",
       "        True,  True,  True,  True])"
      ]
     },
     "execution_count": 26,
     "metadata": {},
     "output_type": "execute_result"
    }
   ],
   "source": [
    "X_test.index == poom_X_test.index"
   ]
  },
  {
   "cell_type": "markdown",
   "id": "ebfa67b7",
   "metadata": {},
   "source": [
    "# Data visualization and exploration"
   ]
  },
  {
   "cell_type": "markdown",
   "id": "704f453a",
   "metadata": {},
   "source": [
    "## Using seaborn lets do some visualization \n",
    "\n",
    "### Countplot to visualize data\n",
    "The countplot visualization below shown the number of dm diagnosed with yes and no dm\n",
    "\n",
    "<b>Insight: </b>There is more no (no dm) than have dm"
   ]
  },
  {
   "cell_type": "code",
   "execution_count": 27,
   "id": "606482c0",
   "metadata": {},
   "outputs": [
    {
     "data": {
      "text/plain": [
       "<AxesSubplot:xlabel='dm', ylabel='count'>"
      ]
     },
     "execution_count": 27,
     "metadata": {},
     "output_type": "execute_result"
    },
    {
     "data": {
      "image/png": "[encoded data removed]",
      "text/plain": [
       "<Figure size 432x288 with 1 Axes>"
      ]
     },
     "metadata": {
      "needs_background": "light"
     },
     "output_type": "display_data"
    }
   ],
   "source": [
    "sns.countplot(x = 'dm', data = df)"
   ]
  },
  {
   "cell_type": "markdown",
   "id": "89f00b63",
   "metadata": {},
   "source": [
    "## In order to get more insight lets set hue as gender\n",
    "This will enable us to see which gender have dm more than each other\n",
    "\n",
    "<b>According to google: Men are almost twice as likely to develop type 2 diabetes as women.</b> This could indicate that gender no1 is Male and gender no2 is female.\n",
    "\n",
    "<b>Insight: </b> From the visualization below we can see that gender no1 is more prone to having dm than gender no2. Moreover, seems like from our dataset there is more gender no1(<b>Male</b>) than gender no 2(<b>Female</b>)"
   ]
  },
  {
   "cell_type": "code",
   "execution_count": 28,
   "id": "e2c78695",
   "metadata": {},
   "outputs": [
    {
     "data": {
      "text/plain": [
       "<AxesSubplot:xlabel='gender', ylabel='count'>"
      ]
     },
     "execution_count": 28,
     "metadata": {},
     "output_type": "execute_result"
    },
    {
     "data": {
      "image/png": "[encoded data removed]",
      "text/plain": [
       "<Figure size 432x288 with 1 Axes>"
      ]
     },
     "metadata": {
      "needs_background": "light"
     },
     "output_type": "display_data"
    }
   ],
   "source": [
    "sns.countplot(x = 'gender', hue = 'dm', data = df)"
   ]
  },
  {
   "cell_type": "markdown",
   "id": "7dd8464c",
   "metadata": {},
   "source": [
    "## Histogram\n",
    "<strong>Histogram using sns.hisplot</strong>\n",
    "\n",
    "In the plot below, the function parameter are age then hue parameter is Grouping variable that will produce points with different colors, the graph below set hue as dm.\n",
    "\n",
    "<b>Insight:</b><i> People who are diagnosed with dm are around age group of 30 to mid 50 with 50 being the most</i>"
   ]
  },
  {
   "cell_type": "code",
   "execution_count": 29,
   "id": "4d3661dd",
   "metadata": {},
   "outputs": [
    {
     "data": {
      "image/png": "[encoded data removed]",
      "text/plain": [
       "<Figure size 600x400 with 1 Axes>"
      ]
     },
     "metadata": {
      "needs_background": "light"
     },
     "output_type": "display_data"
    }
   ],
   "source": [
    "plt.figure(dpi = 100)\n",
    "sns.histplot(x = 'age', hue = 'dm', data = df);"
   ]
  },
  {
   "cell_type": "markdown",
   "id": "f68aecd5",
   "metadata": {},
   "source": [
    "## Correlation Heatmap\n",
    "<p>Correlation heatmap is graphical representation of correlation matrix representing correlation between different variables. The values will be between -1 and 1 with 1 being highly correlated</p> \n",
    "\n",
    "<b>Insight: </b> According to the heatmap below there is a high correlation between HbA1C and dm_encoded as dm is dervived from HbA1c a strong indicator (highest is 0.72)"
   ]
  },
  {
   "cell_type": "code",
   "execution_count": 30,
   "id": "40132d84",
   "metadata": {},
   "outputs": [
    {
     "data": {
      "image/png": "[encoded data removed]",
      "text/plain": [
       "<Figure size 600x400 with 2 Axes>"
      ]
     },
     "metadata": {
      "needs_background": "light"
     },
     "output_type": "display_data"
    }
   ],
   "source": [
    "plt.figure(dpi=100)\n",
    "sns.heatmap(df.corr(),annot=True, cmap=\"YlGnBu\");"
   ]
  },
  {
   "cell_type": "markdown",
   "id": "0f6bbca8",
   "metadata": {},
   "source": [
    "# Correlation Barchart of Dm_encoded\n",
    "<b>Insight: </b> from the barchart below we can elaborate more that HbA1C is strongly correlated with dm as we derived from it.Moreover, the glu also seem correlated with dm. Lets explore glu in the next panel"
   ]
  },
  {
   "cell_type": "code",
   "execution_count": 31,
   "id": "919d88b1",
   "metadata": {},
   "outputs": [
    {
     "data": {
      "image/png": "[encoded data removed]",
      "text/plain": [
       "<Figure size 600x400 with 1 Axes>"
      ]
     },
     "metadata": {
      "needs_background": "light"
     },
     "output_type": "display_data"
    }
   ],
   "source": [
    "dm_corr = df.corr()['dm_encoded'].sort_values()\n",
    "plt.figure(dpi = 100)\n",
    "sns.barplot(x = dm_corr.keys(), y = dm_corr, palette='rocket')\n",
    "plt.xticks(rotation = 90);"
   ]
  },
  {
   "cell_type": "markdown",
   "id": "807e9887",
   "metadata": {},
   "source": [
    "# Glu exploration against dm\n",
    "1. catplot\n",
    "2. boxplot\n",
    "\n",
    "## Catplot\n",
    "<b>Insight: </b> the catplot below doesnt difficiate much seems like there is outlier in some of them making it difficult to differentiate. <i>Lets try boxplot to visualize better</i>"
   ]
  },
  {
   "cell_type": "code",
   "execution_count": 32,
   "id": "56caaebb",
   "metadata": {},
   "outputs": [
    {
     "data": {
      "text/plain": [
       "<Figure size 600x400 with 0 Axes>"
      ]
     },
     "metadata": {},
     "output_type": "display_data"
    },
    {
     "data": {
      "image/png": "[encoded data removed]",
      "text/plain": [
       "<Figure size 360x360 with 1 Axes>"
      ]
     },
     "metadata": {
      "needs_background": "light"
     },
     "output_type": "display_data"
    }
   ],
   "source": [
    "plt.figure(dpi=100)\n",
    "sns.catplot(data = df, x = df['dm'],y =df['glu']);"
   ]
  },
  {
   "cell_type": "markdown",
   "id": "82da3abe",
   "metadata": {},
   "source": [
    "## Boxplot\n",
    "<b>Insight: </b> the boxplot in the other hand, give us a clear separator as people with no dm tend to have 105 or lower. However, there are some outlier(<strong> This might be the reason for making the catplot ineffective</strong>). For the people diagnosed with dm tend to have glu of 105-117."
   ]
  },
  {
   "cell_type": "code",
   "execution_count": 33,
   "id": "f75c0b19",
   "metadata": {
    "scrolled": true
   },
   "outputs": [
    {
     "data": {
      "image/png": "[encoded data removed]",
      "text/plain": [
       "<Figure size 600x400 with 1 Axes>"
      ]
     },
     "metadata": {
      "needs_background": "light"
     },
     "output_type": "display_data"
    }
   ],
   "source": [
    "plt.figure(dpi=100)\n",
    "sns.boxplot(data = df, x = df['dm'],y =df['glu']);"
   ]
  },
  {
   "cell_type": "markdown",
   "id": "63b54aa1",
   "metadata": {},
   "source": [
    "# End of assignment 1\n",
    "# Modelling cont"
   ]
  }
 ],
 "metadata": {
  "kernelspec": {
   "display_name": "Python 3 (ipykernel)",
   "language": "python",
   "name": "python3"
  },
  "language_info": {
   "codemirror_mode": {
    "name": "ipython",
    "version": 3
   },
   "file_extension": ".py",
   "mimetype": "text/x-python",
   "name": "python",
   "nbconvert_exporter": "python",
   "pygments_lexer": "ipython3",
   "version": "3.8.11"
  }
 },
 "nbformat": 4,
 "nbformat_minor": 5
}
